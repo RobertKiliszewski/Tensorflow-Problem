{
 "cells": [
  {
   "cell_type": "markdown",
   "metadata": {},
   "source": [
    "# Tensorflow Problem Sheet\n",
    "\n",
    "This is a solution to a tensorflow problem sheet using Keras based on the data from the iris data set.\n"
   ]
  },
  {
   "cell_type": "markdown",
   "metadata": {},
   "source": [
    "###### Adapted from: https://github.com/salmanahmad4u/keras-iris/blob/master/iris_nn.py"
   ]
  },
  {
   "cell_type": "code",
   "execution_count": 1,
   "metadata": {},
   "outputs": [
    {
     "name": "stderr",
     "output_type": "stream",
     "text": [
      "Using TensorFlow backend.\n"
     ]
    }
   ],
   "source": [
    "import csv\n",
    "import numpy as np\n",
    "import keras as kr"
   ]
  },
  {
   "cell_type": "markdown",
   "metadata": {},
   "source": [
    "## Load the Iris dataset."
   ]
  },
  {
   "cell_type": "code",
   "execution_count": 2,
   "metadata": {},
   "outputs": [],
   "source": [
    "iris = list(csv.reader(open('iris.csv')))[1:]"
   ]
  },
  {
   "cell_type": "markdown",
   "metadata": {},
   "source": [
    "## The inputs are four floats: sepal length, sepal width, petal length, petal width."
   ]
  },
  {
   "cell_type": "code",
   "execution_count": 3,
   "metadata": {
    "collapsed": true
   },
   "outputs": [],
   "source": [
    "inputs  = np.array(iris)[:,:4].astype(np.float)"
   ]
  },
  {
   "cell_type": "markdown",
   "metadata": {},
   "source": [
    "## Outputs are initially individual strings: setosa, versicolor or virginica."
   ]
  },
  {
   "cell_type": "code",
   "execution_count": 4,
   "metadata": {
    "collapsed": true
   },
   "outputs": [],
   "source": [
    "outputs = np.array(iris)[:,4]"
   ]
  },
  {
   "cell_type": "markdown",
   "metadata": {},
   "source": [
    "## Convert the output strings to ints."
   ]
  },
  {
   "cell_type": "code",
   "execution_count": 5,
   "metadata": {
    "collapsed": true
   },
   "outputs": [],
   "source": [
    "outputs_vals, outputs_ints = np.unique(outputs, return_inverse=True)"
   ]
  },
  {
   "cell_type": "markdown",
   "metadata": {},
   "source": [
    "## Encode the category integers as binary categorical vairables."
   ]
  },
  {
   "cell_type": "code",
   "execution_count": 6,
   "metadata": {
    "collapsed": true
   },
   "outputs": [],
   "source": [
    "outputs_cats = kr.utils.to_categorical(outputs_ints)"
   ]
  },
  {
   "cell_type": "markdown",
   "metadata": {},
   "source": [
    "## Split the input and output data sets into training and test subsets."
   ]
  },
  {
   "cell_type": "code",
   "execution_count": 7,
   "metadata": {
    "collapsed": true
   },
   "outputs": [],
   "source": [
    "inds = np.random.permutation(len(inputs))\n",
    "train_inds, test_inds = np.array_split(inds, 2)\n",
    "inputs_train, outputs_train = inputs[train_inds], outputs_cats[train_inds]\n",
    "inputs_test,  outputs_test  = inputs[test_inds],  outputs_cats[test_inds]"
   ]
  },
  {
   "cell_type": "markdown",
   "metadata": {},
   "source": [
    "## Create a neural network."
   ]
  },
  {
   "cell_type": "code",
   "execution_count": 8,
   "metadata": {
    "collapsed": true
   },
   "outputs": [],
   "source": [
    "model = kr.models.Sequential()"
   ]
  },
  {
   "cell_type": "markdown",
   "metadata": {},
   "source": [
    "## Add an initial layer with 4 input nodes, and a hidden layer with 16 nodes."
   ]
  },
  {
   "cell_type": "code",
   "execution_count": 9,
   "metadata": {
    "collapsed": true
   },
   "outputs": [],
   "source": [
    "model.add(kr.layers.Dense(16, input_shape=(4,)))\n",
    "# Apply the sigmoid activation function to that layer.\n",
    "model.add(kr.layers.Activation(\"sigmoid\"))\n",
    "# Add another layer, connected to the layer with 16 nodes, containing three output nodes.\n",
    "model.add(kr.layers.Dense(3))\n",
    "# Use the softmax activation function there.\n",
    "model.add(kr.layers.Activation(\"softmax\"))"
   ]
  },
  {
   "cell_type": "markdown",
   "metadata": {},
   "source": [
    "## Configure the model for training.\n",
    "## Uses the adam optimizer and categorical cross entropy as the loss function.\n",
    "## Add in some extra metrics - accuracy being the only one."
   ]
  },
  {
   "cell_type": "code",
   "execution_count": 10,
   "metadata": {
    "collapsed": true
   },
   "outputs": [],
   "source": [
    "model.compile(optimizer=\"adam\", loss=\"categorical_crossentropy\", metrics=[\"accuracy\"])"
   ]
  },
  {
   "cell_type": "markdown",
   "metadata": {},
   "source": [
    "## Fit the model using our training data."
   ]
  },
  {
   "cell_type": "code",
   "execution_count": 11,
   "metadata": {},
   "outputs": [
    {
     "name": "stdout",
     "output_type": "stream",
     "text": [
      "Epoch 1/100\n",
      "74/74 [==============================] - 0s - loss: 1.4278 - acc: 0.3919         \n",
      "Epoch 2/100\n",
      "74/74 [==============================] - 0s - loss: 1.1999 - acc: 0.3919        \n",
      "Epoch 3/100\n",
      "74/74 [==============================] - 0s - loss: 1.1033 - acc: 0.3919        \n",
      "Epoch 4/100\n",
      "74/74 [==============================] - 0s - loss: 1.0476 - acc: 0.3919        \n",
      "Epoch 5/100\n",
      "74/74 [==============================] - 0s - loss: 1.0155 - acc: 0.3919        \n",
      "Epoch 6/100\n",
      "74/74 [==============================] - 0s - loss: 0.9836 - acc: 0.4865        \n",
      "Epoch 7/100\n",
      "74/74 [==============================] - 0s - loss: 0.9543 - acc: 0.6757        \n",
      "Epoch 8/100\n",
      "74/74 [==============================] - 0s - loss: 0.9181 - acc: 0.7432        \n",
      "Epoch 9/100\n",
      "74/74 [==============================] - 0s - loss: 0.8815 - acc: 0.7432     \n",
      "Epoch 10/100\n",
      "74/74 [==============================] - 0s - loss: 0.8401 - acc: 0.7432     \n",
      "Epoch 11/100\n",
      "74/74 [==============================] - 0s - loss: 0.8015 - acc: 0.8378     \n",
      "Epoch 12/100\n",
      "74/74 [==============================] - 0s - loss: 0.7509 - acc: 0.7432     \n",
      "Epoch 13/100\n",
      "74/74 [==============================] - 0s - loss: 0.7074 - acc: 0.7432     \n",
      "Epoch 14/100\n",
      "74/74 [==============================] - 0s - loss: 0.6758 - acc: 0.7432        \n",
      "Epoch 15/100\n",
      "74/74 [==============================] - 0s - loss: 0.6445 - acc: 0.7432        \n",
      "Epoch 16/100\n",
      "74/74 [==============================] - 0s - loss: 0.6200 - acc: 0.7432     \n",
      "Epoch 17/100\n",
      "74/74 [==============================] - 0s - loss: 0.5946 - acc: 0.8378        \n",
      "Epoch 18/100\n",
      "74/74 [==============================] - 0s - loss: 0.5727 - acc: 0.7432        \n",
      "Epoch 19/100\n",
      "74/74 [==============================] - 0s - loss: 0.5544 - acc: 0.7703     \n",
      "Epoch 20/100\n",
      "74/74 [==============================] - 0s - loss: 0.5371 - acc: 0.7703     \n",
      "Epoch 21/100\n",
      "74/74 [==============================] - 0s - loss: 0.5242 - acc: 0.9054        \n",
      "Epoch 22/100\n",
      "74/74 [==============================] - 0s - loss: 0.5114 - acc: 0.8378     \n",
      "Epoch 23/100\n",
      "74/74 [==============================] - 0s - loss: 0.5004 - acc: 0.8649     \n",
      "Epoch 24/100\n",
      "74/74 [==============================] - 0s - loss: 0.4840 - acc: 0.8649     \n",
      "Epoch 25/100\n",
      "74/74 [==============================] - 0s - loss: 0.4757 - acc: 0.8784     \n",
      "Epoch 26/100\n",
      "74/74 [==============================] - 0s - loss: 0.4636 - acc: 0.8514     \n",
      "Epoch 27/100\n",
      "74/74 [==============================] - 0s - loss: 0.4531 - acc: 0.8649     \n",
      "Epoch 28/100\n",
      "74/74 [==============================] - 0s - loss: 0.4449 - acc: 0.8108     \n",
      "Epoch 29/100\n",
      "74/74 [==============================] - 0s - loss: 0.4347 - acc: 0.9324     \n",
      "Epoch 30/100\n",
      "74/74 [==============================] - 0s - loss: 0.4284 - acc: 0.9054     \n",
      "Epoch 31/100\n",
      "74/74 [==============================] - 0s - loss: 0.4181 - acc: 0.8784     \n",
      "Epoch 32/100\n",
      "74/74 [==============================] - 0s - loss: 0.4106 - acc: 0.8919     \n",
      "Epoch 33/100\n",
      "74/74 [==============================] - 0s - loss: 0.4023 - acc: 0.9324        \n",
      "Epoch 34/100\n",
      "74/74 [==============================] - 0s - loss: 0.3939 - acc: 0.9324     \n",
      "Epoch 35/100\n",
      "74/74 [==============================] - 0s - loss: 0.3869 - acc: 0.9730     \n",
      "Epoch 36/100\n",
      "74/74 [==============================] - 0s - loss: 0.3827 - acc: 0.8378     \n",
      "Epoch 37/100\n",
      "74/74 [==============================] - 0s - loss: 0.3753 - acc: 0.9865     \n",
      "Epoch 38/100\n",
      "74/74 [==============================] - 0s - loss: 0.3664 - acc: 0.8919     \n",
      "Epoch 39/100\n",
      "74/74 [==============================] - 0s - loss: 0.3581 - acc: 0.9595     \n",
      "Epoch 40/100\n",
      "74/74 [==============================] - 0s - loss: 0.3533 - acc: 0.9595     \n",
      "Epoch 41/100\n",
      "74/74 [==============================] - 0s - loss: 0.3457 - acc: 0.9730     \n",
      "Epoch 42/100\n",
      "74/74 [==============================] - 0s - loss: 0.3380 - acc: 0.9595     \n",
      "Epoch 43/100\n",
      "74/74 [==============================] - 0s - loss: 0.3304 - acc: 0.9459     \n",
      "Epoch 44/100\n",
      "74/74 [==============================] - 0s - loss: 0.3245 - acc: 0.9865     \n",
      "Epoch 45/100\n",
      "74/74 [==============================] - 0s - loss: 0.3227 - acc: 0.9730     \n",
      "Epoch 46/100\n",
      "74/74 [==============================] - 0s - loss: 0.3119 - acc: 0.9595     \n",
      "Epoch 47/100\n",
      "74/74 [==============================] - 0s - loss: 0.3094 - acc: 0.9595     \n",
      "Epoch 48/100\n",
      "74/74 [==============================] - 0s - loss: 0.3021 - acc: 0.9730     \n",
      "Epoch 49/100\n",
      "74/74 [==============================] - 0s - loss: 0.2920 - acc: 0.9730     \n",
      "Epoch 50/100\n",
      "74/74 [==============================] - 0s - loss: 0.2884 - acc: 0.9865     \n",
      "Epoch 51/100\n",
      "74/74 [==============================] - 0s - loss: 0.2809 - acc: 0.9730     \n",
      "Epoch 52/100\n",
      "74/74 [==============================] - 0s - loss: 0.2736 - acc: 0.9865     \n",
      "Epoch 53/100\n",
      "74/74 [==============================] - 0s - loss: 0.2686 - acc: 0.9865     \n",
      "Epoch 54/100\n",
      "74/74 [==============================] - 0s - loss: 0.2672 - acc: 0.9865     \n",
      "Epoch 55/100\n",
      "74/74 [==============================] - 0s - loss: 0.2603 - acc: 0.9865     \n",
      "Epoch 56/100\n",
      "74/74 [==============================] - 0s - loss: 0.2525 - acc: 0.9865     \n",
      "Epoch 57/100\n",
      "74/74 [==============================] - 0s - loss: 0.2480 - acc: 0.9730     \n",
      "Epoch 58/100\n",
      "74/74 [==============================] - 0s - loss: 0.2420 - acc: 0.9865     \n",
      "Epoch 59/100\n",
      "74/74 [==============================] - 0s - loss: 0.2357 - acc: 0.9865     \n",
      "Epoch 60/100\n",
      "74/74 [==============================] - 0s - loss: 0.2270 - acc: 1.0000     \n",
      "Epoch 61/100\n",
      "74/74 [==============================] - 0s - loss: 0.2237 - acc: 0.9730     \n",
      "Epoch 62/100\n",
      "74/74 [==============================] - 0s - loss: 0.2184 - acc: 0.9865     \n",
      "Epoch 63/100\n",
      "74/74 [==============================] - 0s - loss: 0.2105 - acc: 0.9865     \n",
      "Epoch 64/100\n",
      "74/74 [==============================] - 0s - loss: 0.2061 - acc: 0.9865     \n",
      "Epoch 65/100\n",
      "74/74 [==============================] - 0s - loss: 0.2017 - acc: 0.9865     \n",
      "Epoch 66/100\n",
      "74/74 [==============================] - 0s - loss: 0.1973 - acc: 0.9730     \n",
      "Epoch 67/100\n",
      "74/74 [==============================] - 0s - loss: 0.1932 - acc: 0.9865     \n",
      "Epoch 68/100\n",
      "74/74 [==============================] - 0s - loss: 0.1886 - acc: 1.0000     \n",
      "Epoch 69/100\n",
      "74/74 [==============================] - 0s - loss: 0.1843 - acc: 0.9865     \n",
      "Epoch 70/100\n",
      "74/74 [==============================] - 0s - loss: 0.1802 - acc: 0.9865     \n",
      "Epoch 71/100\n",
      "74/74 [==============================] - 0s - loss: 0.1764 - acc: 0.9865     \n",
      "Epoch 72/100\n",
      "74/74 [==============================] - 0s - loss: 0.1754 - acc: 0.9865     \n",
      "Epoch 73/100\n",
      "74/74 [==============================] - 0s - loss: 0.1695 - acc: 0.9865     \n",
      "Epoch 74/100\n",
      "74/74 [==============================] - 0s - loss: 0.1685 - acc: 0.9865     \n",
      "Epoch 75/100\n",
      "74/74 [==============================] - 0s - loss: 0.1644 - acc: 0.9865     \n",
      "Epoch 76/100\n",
      "74/74 [==============================] - 0s - loss: 0.1614 - acc: 0.9730     \n",
      "Epoch 77/100\n",
      "74/74 [==============================] - 0s - loss: 0.1574 - acc: 0.9865     \n",
      "Epoch 78/100\n",
      "74/74 [==============================] - 0s - loss: 0.1547 - acc: 0.9865     \n",
      "Epoch 79/100\n",
      "74/74 [==============================] - 0s - loss: 0.1533 - acc: 0.9865     \n",
      "Epoch 80/100\n",
      "74/74 [==============================] - 0s - loss: 0.1495 - acc: 0.9865     \n",
      "Epoch 81/100\n",
      "74/74 [==============================] - 0s - loss: 0.1506 - acc: 0.9730     \n",
      "Epoch 82/100\n",
      "74/74 [==============================] - 0s - loss: 0.1451 - acc: 0.9730     \n",
      "Epoch 83/100\n",
      "74/74 [==============================] - 0s - loss: 0.1418 - acc: 0.9730     \n",
      "Epoch 84/100\n",
      "74/74 [==============================] - 0s - loss: 0.1415 - acc: 0.9865     \n",
      "Epoch 85/100\n",
      "74/74 [==============================] - 0s - loss: 0.1355 - acc: 0.9865     \n",
      "Epoch 86/100\n",
      "74/74 [==============================] - 0s - loss: 0.1346 - acc: 0.9865     \n",
      "Epoch 87/100\n",
      "74/74 [==============================] - 0s - loss: 0.1330 - acc: 0.9730     \n",
      "Epoch 88/100\n",
      "74/74 [==============================] - 0s - loss: 0.1291 - acc: 0.9865     \n",
      "Epoch 89/100\n",
      "74/74 [==============================] - 0s - loss: 0.1274 - acc: 0.9865     \n",
      "Epoch 90/100\n"
     ]
    },
    {
     "name": "stdout",
     "output_type": "stream",
     "text": [
      "74/74 [==============================] - 0s - loss: 0.1259 - acc: 0.9865     \n",
      "Epoch 91/100\n",
      "74/74 [==============================] - 0s - loss: 0.1225 - acc: 0.9865     \n",
      "Epoch 92/100\n",
      "74/74 [==============================] - 0s - loss: 0.1262 - acc: 0.9865     \n",
      "Epoch 93/100\n",
      "74/74 [==============================] - 0s - loss: 0.1183 - acc: 0.9730     \n",
      "Epoch 94/100\n",
      "74/74 [==============================] - 0s - loss: 0.1158 - acc: 0.9730     \n",
      "Epoch 95/100\n",
      "74/74 [==============================] - 0s - loss: 0.1133 - acc: 0.9865     \n",
      "Epoch 96/100\n",
      "74/74 [==============================] - 0s - loss: 0.1139 - acc: 0.9865     \n",
      "Epoch 97/100\n",
      "74/74 [==============================] - 0s - loss: 0.1111 - acc: 0.9730     \n",
      "Epoch 98/100\n",
      "74/74 [==============================] - 0s - loss: 0.1081 - acc: 0.9865     \n",
      "Epoch 99/100\n",
      "74/74 [==============================] - 0s - loss: 0.1083 - acc: 0.9865     \n",
      "Epoch 100/100\n",
      "74/74 [==============================] - 0s - loss: 0.1046 - acc: 0.9865     \n"
     ]
    },
    {
     "data": {
      "text/plain": [
       "<keras.callbacks.History at 0x10bcbb262b0>"
      ]
     },
     "execution_count": 11,
     "metadata": {},
     "output_type": "execute_result"
    }
   ],
   "source": [
    "model.fit(inputs_train, outputs_train, epochs=100, batch_size=1, verbose=1)"
   ]
  },
  {
   "cell_type": "markdown",
   "metadata": {},
   "source": [
    "## Evaluate the model using the test data set.# "
   ]
  },
  {
   "cell_type": "code",
   "execution_count": 12,
   "metadata": {},
   "outputs": [
    {
     "name": "stdout",
     "output_type": "stream",
     "text": [
      "\r",
      "32/74 [===========>..................] - ETA: 0s"
     ]
    }
   ],
   "source": [
    "loss, accuracy = model.evaluate(inputs_test, outputs_test, verbose=1)"
   ]
  },
  {
   "cell_type": "markdown",
   "metadata": {},
   "source": [
    "## Output the accuracy of the model."
   ]
  },
  {
   "cell_type": "code",
   "execution_count": 13,
   "metadata": {},
   "outputs": [
    {
     "name": "stdout",
     "output_type": "stream",
     "text": [
      "\n",
      "\n",
      "Loss: 0.1574\tAccuracy: 0.9730\n"
     ]
    }
   ],
   "source": [
    "print(\"\\n\\nLoss: %6.4f\\tAccuracy: %6.4f\" % (loss, accuracy))"
   ]
  },
  {
   "cell_type": "markdown",
   "metadata": {},
   "source": [
    "## Predict the class of a single flower."
   ]
  },
  {
   "cell_type": "code",
   "execution_count": 14,
   "metadata": {
    "scrolled": false
   },
   "outputs": [
    {
     "name": "stdout",
     "output_type": "stream",
     "text": [
      "Actual: [0 0 1]\tEstimated: [0 0 1]\n",
      "That means it's a I.virginica\n"
     ]
    }
   ],
   "source": [
    "prediction = np.around(model.predict(np.expand_dims(inputs_test[0], axis=0))).astype(np.int)[0]\n",
    "print(\"Actual: %s\\tEstimated: %s\" % (outputs_test[0].astype(np.int), prediction))\n",
    "print(\"That means it's a %s\" % outputs_vals[prediction.astype(np.bool)][0])"
   ]
  },
  {
   "cell_type": "markdown",
   "metadata": {},
   "source": [
    "## Save the model to a file for later use."
   ]
  },
  {
   "cell_type": "code",
   "execution_count": 15,
   "metadata": {
    "collapsed": true
   },
   "outputs": [],
   "source": [
    "model.save(\"iris_nn.h5\")\n",
    "# Load the model again with: model = load_model(\"iris_nn.h5\")"
   ]
  }
 ],
 "metadata": {
  "kernelspec": {
   "display_name": "Python 3",
   "language": "python",
   "name": "python3"
  },
  "language_info": {
   "codemirror_mode": {
    "name": "ipython",
    "version": 3
   },
   "file_extension": ".py",
   "mimetype": "text/x-python",
   "name": "python",
   "nbconvert_exporter": "python",
   "pygments_lexer": "ipython3",
   "version": "3.6.3"
  }
 },
 "nbformat": 4,
 "nbformat_minor": 2
}
